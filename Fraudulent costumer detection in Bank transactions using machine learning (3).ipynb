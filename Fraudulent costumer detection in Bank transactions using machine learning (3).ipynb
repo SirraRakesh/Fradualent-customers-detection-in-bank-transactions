{
 "cells": [
  {
   "cell_type": "code",
   "execution_count": 1,
   "id": "28b5a543",
   "metadata": {
    "scrolled": true
   },
   "outputs": [],
   "source": [
    "import pandas as pd\n",
    "from statsmodels.stats.outliers_influence import variance_inflation_factor\n",
    "from matplotlib import pyplot as plt\n",
    "from sklearn.model_selection import train_test_split\n",
    "from xgboost import XGBClassifier\n",
    "from sklearn.metrics import accuracy_score"
   ]
  },
  {
   "cell_type": "code",
   "execution_count": 2,
   "id": "83944dc2",
   "metadata": {},
   "outputs": [],
   "source": [
    "data=pd.read_csv('Fraud.csv')"
   ]
  },
  {
   "cell_type": "code",
   "execution_count": 3,
   "id": "09ea7571",
   "metadata": {},
   "outputs": [
    {
     "data": {
      "text/html": [
       "<div>\n",
       "<style scoped>\n",
       "    .dataframe tbody tr th:only-of-type {\n",
       "        vertical-align: middle;\n",
       "    }\n",
       "\n",
       "    .dataframe tbody tr th {\n",
       "        vertical-align: top;\n",
       "    }\n",
       "\n",
       "    .dataframe thead th {\n",
       "        text-align: right;\n",
       "    }\n",
       "</style>\n",
       "<table border=\"1\" class=\"dataframe\">\n",
       "  <thead>\n",
       "    <tr style=\"text-align: right;\">\n",
       "      <th></th>\n",
       "      <th>step</th>\n",
       "      <th>type</th>\n",
       "      <th>amount</th>\n",
       "      <th>nameOrig</th>\n",
       "      <th>oldbalanceOrg</th>\n",
       "      <th>newbalanceOrig</th>\n",
       "      <th>nameDest</th>\n",
       "      <th>oldbalanceDest</th>\n",
       "      <th>newbalanceDest</th>\n",
       "      <th>isFraud</th>\n",
       "      <th>isFlaggedFraud</th>\n",
       "    </tr>\n",
       "  </thead>\n",
       "  <tbody>\n",
       "    <tr>\n",
       "      <th>0</th>\n",
       "      <td>1</td>\n",
       "      <td>PAYMENT</td>\n",
       "      <td>9839.64</td>\n",
       "      <td>C1231006815</td>\n",
       "      <td>170136.00</td>\n",
       "      <td>160296.36</td>\n",
       "      <td>M1979787155</td>\n",
       "      <td>0.0</td>\n",
       "      <td>0.00</td>\n",
       "      <td>0</td>\n",
       "      <td>0</td>\n",
       "    </tr>\n",
       "    <tr>\n",
       "      <th>1</th>\n",
       "      <td>1</td>\n",
       "      <td>PAYMENT</td>\n",
       "      <td>1864.28</td>\n",
       "      <td>C1666544295</td>\n",
       "      <td>21249.00</td>\n",
       "      <td>19384.72</td>\n",
       "      <td>M2044282225</td>\n",
       "      <td>0.0</td>\n",
       "      <td>0.00</td>\n",
       "      <td>0</td>\n",
       "      <td>0</td>\n",
       "    </tr>\n",
       "    <tr>\n",
       "      <th>2</th>\n",
       "      <td>1</td>\n",
       "      <td>TRANSFER</td>\n",
       "      <td>181.00</td>\n",
       "      <td>C1305486145</td>\n",
       "      <td>181.00</td>\n",
       "      <td>0.00</td>\n",
       "      <td>C553264065</td>\n",
       "      <td>0.0</td>\n",
       "      <td>0.00</td>\n",
       "      <td>1</td>\n",
       "      <td>0</td>\n",
       "    </tr>\n",
       "    <tr>\n",
       "      <th>3</th>\n",
       "      <td>1</td>\n",
       "      <td>CASH_OUT</td>\n",
       "      <td>181.00</td>\n",
       "      <td>C840083671</td>\n",
       "      <td>181.00</td>\n",
       "      <td>0.00</td>\n",
       "      <td>C38997010</td>\n",
       "      <td>21182.0</td>\n",
       "      <td>0.00</td>\n",
       "      <td>1</td>\n",
       "      <td>0</td>\n",
       "    </tr>\n",
       "    <tr>\n",
       "      <th>4</th>\n",
       "      <td>1</td>\n",
       "      <td>PAYMENT</td>\n",
       "      <td>11668.14</td>\n",
       "      <td>C2048537720</td>\n",
       "      <td>41554.00</td>\n",
       "      <td>29885.86</td>\n",
       "      <td>M1230701703</td>\n",
       "      <td>0.0</td>\n",
       "      <td>0.00</td>\n",
       "      <td>0</td>\n",
       "      <td>0</td>\n",
       "    </tr>\n",
       "    <tr>\n",
       "      <th>5</th>\n",
       "      <td>1</td>\n",
       "      <td>PAYMENT</td>\n",
       "      <td>7817.71</td>\n",
       "      <td>C90045638</td>\n",
       "      <td>53860.00</td>\n",
       "      <td>46042.29</td>\n",
       "      <td>M573487274</td>\n",
       "      <td>0.0</td>\n",
       "      <td>0.00</td>\n",
       "      <td>0</td>\n",
       "      <td>0</td>\n",
       "    </tr>\n",
       "    <tr>\n",
       "      <th>6</th>\n",
       "      <td>1</td>\n",
       "      <td>PAYMENT</td>\n",
       "      <td>7107.77</td>\n",
       "      <td>C154988899</td>\n",
       "      <td>183195.00</td>\n",
       "      <td>176087.23</td>\n",
       "      <td>M408069119</td>\n",
       "      <td>0.0</td>\n",
       "      <td>0.00</td>\n",
       "      <td>0</td>\n",
       "      <td>0</td>\n",
       "    </tr>\n",
       "    <tr>\n",
       "      <th>7</th>\n",
       "      <td>1</td>\n",
       "      <td>PAYMENT</td>\n",
       "      <td>7861.64</td>\n",
       "      <td>C1912850431</td>\n",
       "      <td>176087.23</td>\n",
       "      <td>168225.59</td>\n",
       "      <td>M633326333</td>\n",
       "      <td>0.0</td>\n",
       "      <td>0.00</td>\n",
       "      <td>0</td>\n",
       "      <td>0</td>\n",
       "    </tr>\n",
       "    <tr>\n",
       "      <th>8</th>\n",
       "      <td>1</td>\n",
       "      <td>PAYMENT</td>\n",
       "      <td>4024.36</td>\n",
       "      <td>C1265012928</td>\n",
       "      <td>2671.00</td>\n",
       "      <td>0.00</td>\n",
       "      <td>M1176932104</td>\n",
       "      <td>0.0</td>\n",
       "      <td>0.00</td>\n",
       "      <td>0</td>\n",
       "      <td>0</td>\n",
       "    </tr>\n",
       "    <tr>\n",
       "      <th>9</th>\n",
       "      <td>1</td>\n",
       "      <td>DEBIT</td>\n",
       "      <td>5337.77</td>\n",
       "      <td>C712410124</td>\n",
       "      <td>41720.00</td>\n",
       "      <td>36382.23</td>\n",
       "      <td>C195600860</td>\n",
       "      <td>41898.0</td>\n",
       "      <td>40348.79</td>\n",
       "      <td>0</td>\n",
       "      <td>0</td>\n",
       "    </tr>\n",
       "  </tbody>\n",
       "</table>\n",
       "</div>"
      ],
      "text/plain": [
       "   step      type    amount     nameOrig  oldbalanceOrg  newbalanceOrig  \\\n",
       "0     1   PAYMENT   9839.64  C1231006815      170136.00       160296.36   \n",
       "1     1   PAYMENT   1864.28  C1666544295       21249.00        19384.72   \n",
       "2     1  TRANSFER    181.00  C1305486145         181.00            0.00   \n",
       "3     1  CASH_OUT    181.00   C840083671         181.00            0.00   \n",
       "4     1   PAYMENT  11668.14  C2048537720       41554.00        29885.86   \n",
       "5     1   PAYMENT   7817.71    C90045638       53860.00        46042.29   \n",
       "6     1   PAYMENT   7107.77   C154988899      183195.00       176087.23   \n",
       "7     1   PAYMENT   7861.64  C1912850431      176087.23       168225.59   \n",
       "8     1   PAYMENT   4024.36  C1265012928        2671.00            0.00   \n",
       "9     1     DEBIT   5337.77   C712410124       41720.00        36382.23   \n",
       "\n",
       "      nameDest  oldbalanceDest  newbalanceDest  isFraud  isFlaggedFraud  \n",
       "0  M1979787155             0.0            0.00        0               0  \n",
       "1  M2044282225             0.0            0.00        0               0  \n",
       "2   C553264065             0.0            0.00        1               0  \n",
       "3    C38997010         21182.0            0.00        1               0  \n",
       "4  M1230701703             0.0            0.00        0               0  \n",
       "5   M573487274             0.0            0.00        0               0  \n",
       "6   M408069119             0.0            0.00        0               0  \n",
       "7   M633326333             0.0            0.00        0               0  \n",
       "8  M1176932104             0.0            0.00        0               0  \n",
       "9   C195600860         41898.0        40348.79        0               0  "
      ]
     },
     "execution_count": 3,
     "metadata": {},
     "output_type": "execute_result"
    }
   ],
   "source": [
    "data.head(10)"
   ]
  },
  {
   "cell_type": "markdown",
   "id": "6a230a8b",
   "metadata": {},
   "source": [
    "## 1. Data cleaning\n",
    "### i.Finding any nan values\n"
   ]
  },
  {
   "cell_type": "code",
   "execution_count": 4,
   "id": "f1689dba",
   "metadata": {
    "scrolled": true
   },
   "outputs": [
    {
     "data": {
      "text/plain": [
       "step              0\n",
       "type              0\n",
       "amount            0\n",
       "nameOrig          0\n",
       "oldbalanceOrg     0\n",
       "newbalanceOrig    0\n",
       "nameDest          0\n",
       "oldbalanceDest    0\n",
       "newbalanceDest    0\n",
       "isFraud           0\n",
       "isFlaggedFraud    0\n",
       "dtype: int64"
      ]
     },
     "execution_count": 4,
     "metadata": {},
     "output_type": "execute_result"
    }
   ],
   "source": [
    "data.isnull().sum()"
   ]
  },
  {
   "cell_type": "markdown",
   "id": "9adf1ebe",
   "metadata": {},
   "source": [
    "Here there is no any nan values in any column\n"
   ]
  },
  {
   "cell_type": "markdown",
   "id": "2f92910d",
   "metadata": {},
   "source": [
    "### ii.Multi-collinearity\n",
    "#### Multi-collinearity means the presence of high correlations between two or more independent variables\n"
   ]
  },
  {
   "cell_type": "markdown",
   "id": "46ca6e4b",
   "metadata": {},
   "source": [
    "* Here we find the collinearity between 'type', 'amount',  'oldbalanceOrg', 'newbalanceOrig','oldbalanceDest', 'newbalanceDest'  for that we have to drop some of the columns which are not necessary and string elements\n",
    "* In type column we have to convert the string element into integers for to find the correlation.\n",
    "* And drop the string type columns like 'nameOrig', 'nameDest','isFraud','isFlaggedFraud'."
   ]
  },
  {
   "cell_type": "code",
   "execution_count": 5,
   "id": "6de4fbce",
   "metadata": {},
   "outputs": [],
   "source": [
    "data1=data.copy(deep=True)\n",
    "data1['type']=data1['type'].map({'CASH_IN':0,'CASH_OUT':1,'DEBIT':2,'PAYMENT':3,'TRANSFER':4})"
   ]
  },
  {
   "cell_type": "code",
   "execution_count": 6,
   "id": "09b47eaa",
   "metadata": {},
   "outputs": [],
   "source": [
    "data1=data1.drop(columns=[ 'nameOrig', 'nameDest','isFraud','isFlaggedFraud'])"
   ]
  },
  {
   "cell_type": "code",
   "execution_count": 7,
   "id": "f92a10c8",
   "metadata": {
    "scrolled": true
   },
   "outputs": [
    {
     "data": {
      "text/html": [
       "<div>\n",
       "<style scoped>\n",
       "    .dataframe tbody tr th:only-of-type {\n",
       "        vertical-align: middle;\n",
       "    }\n",
       "\n",
       "    .dataframe tbody tr th {\n",
       "        vertical-align: top;\n",
       "    }\n",
       "\n",
       "    .dataframe thead th {\n",
       "        text-align: right;\n",
       "    }\n",
       "</style>\n",
       "<table border=\"1\" class=\"dataframe\">\n",
       "  <thead>\n",
       "    <tr style=\"text-align: right;\">\n",
       "      <th></th>\n",
       "      <th>step</th>\n",
       "      <th>type</th>\n",
       "      <th>amount</th>\n",
       "      <th>oldbalanceOrg</th>\n",
       "      <th>newbalanceOrig</th>\n",
       "      <th>oldbalanceDest</th>\n",
       "      <th>newbalanceDest</th>\n",
       "    </tr>\n",
       "  </thead>\n",
       "  <tbody>\n",
       "    <tr>\n",
       "      <th>0</th>\n",
       "      <td>1</td>\n",
       "      <td>3</td>\n",
       "      <td>9839.64</td>\n",
       "      <td>170136.0</td>\n",
       "      <td>160296.36</td>\n",
       "      <td>0.0</td>\n",
       "      <td>0.0</td>\n",
       "    </tr>\n",
       "    <tr>\n",
       "      <th>1</th>\n",
       "      <td>1</td>\n",
       "      <td>3</td>\n",
       "      <td>1864.28</td>\n",
       "      <td>21249.0</td>\n",
       "      <td>19384.72</td>\n",
       "      <td>0.0</td>\n",
       "      <td>0.0</td>\n",
       "    </tr>\n",
       "    <tr>\n",
       "      <th>2</th>\n",
       "      <td>1</td>\n",
       "      <td>4</td>\n",
       "      <td>181.00</td>\n",
       "      <td>181.0</td>\n",
       "      <td>0.00</td>\n",
       "      <td>0.0</td>\n",
       "      <td>0.0</td>\n",
       "    </tr>\n",
       "    <tr>\n",
       "      <th>3</th>\n",
       "      <td>1</td>\n",
       "      <td>1</td>\n",
       "      <td>181.00</td>\n",
       "      <td>181.0</td>\n",
       "      <td>0.00</td>\n",
       "      <td>21182.0</td>\n",
       "      <td>0.0</td>\n",
       "    </tr>\n",
       "    <tr>\n",
       "      <th>4</th>\n",
       "      <td>1</td>\n",
       "      <td>3</td>\n",
       "      <td>11668.14</td>\n",
       "      <td>41554.0</td>\n",
       "      <td>29885.86</td>\n",
       "      <td>0.0</td>\n",
       "      <td>0.0</td>\n",
       "    </tr>\n",
       "  </tbody>\n",
       "</table>\n",
       "</div>"
      ],
      "text/plain": [
       "   step  type    amount  oldbalanceOrg  newbalanceOrig  oldbalanceDest  \\\n",
       "0     1     3   9839.64       170136.0       160296.36             0.0   \n",
       "1     1     3   1864.28        21249.0        19384.72             0.0   \n",
       "2     1     4    181.00          181.0            0.00             0.0   \n",
       "3     1     1    181.00          181.0            0.00         21182.0   \n",
       "4     1     3  11668.14        41554.0        29885.86             0.0   \n",
       "\n",
       "   newbalanceDest  \n",
       "0             0.0  \n",
       "1             0.0  \n",
       "2             0.0  \n",
       "3             0.0  \n",
       "4             0.0  "
      ]
     },
     "execution_count": 7,
     "metadata": {},
     "output_type": "execute_result"
    }
   ],
   "source": [
    "data1.head()"
   ]
  },
  {
   "cell_type": "markdown",
   "id": "d04a83fc",
   "metadata": {},
   "source": [
    "Variance Inflation Factor(VIF).\n",
    "\n",
    "In VIF method, we pick each feature and regress it against all of the other features"
   ]
  },
  {
   "cell_type": "code",
   "execution_count": 8,
   "id": "d1b99d3d",
   "metadata": {},
   "outputs": [
    {
     "name": "stdout",
     "output_type": "stream",
     "text": [
      "          feature         VIF\n",
      "0            step    2.235180\n",
      "1            type    2.075260\n",
      "2          amount    4.013539\n",
      "3   oldbalanceOrg  480.226670\n",
      "4  newbalanceOrig  483.729602\n",
      "5  oldbalanceDest   72.071759\n",
      "6  newbalanceDest   83.549914\n"
     ]
    }
   ],
   "source": [
    "\n",
    "vif_data = pd.DataFrame()\n",
    "vif_data[\"feature\"] = data1.columns\n",
    "  \n",
    "# calculating VIF for each feature\n",
    "\n",
    "vif_data[\"VIF\"] = [variance_inflation_factor(data1.values, i) for i in range(len(data1.columns))]\n",
    "  \n",
    "print(vif_data)"
   ]
  },
  {
   "cell_type": "markdown",
   "id": "0fca2e56",
   "metadata": {},
   "source": [
    "In this we found that oldbalenceOrig and newbalenceOrig have highest vif values.i.e oldbalenceOrig and newbalenceOrig realted with each other"
   ]
  },
  {
   "cell_type": "markdown",
   "id": "03fbe411",
   "metadata": {},
   "source": [
    "## iii.Outlier"
   ]
  },
  {
   "cell_type": "code",
   "execution_count": 9,
   "id": "3e31a99f",
   "metadata": {
    "scrolled": true
   },
   "outputs": [
    {
     "data": {
      "text/plain": [
       "<matplotlib.collections.PathCollection at 0x2ae4eb16df0>"
      ]
     },
     "execution_count": 9,
     "metadata": {},
     "output_type": "execute_result"
    },
    {
     "data": {
      "image/png": "[encoded data removed]",
      "text/plain": [
       "<Figure size 432x288 with 1 Axes>"
      ]
     },
     "metadata": {
      "needs_background": "light"
     },
     "output_type": "display_data"
    }
   ],
   "source": [
    "plt.scatter(data['oldbalanceOrg'],data['newbalanceOrig'])"
   ]
  },
  {
   "cell_type": "code",
   "execution_count": 10,
   "id": "162be324",
   "metadata": {
    "scrolled": true
   },
   "outputs": [
    {
     "data": {
      "text/plain": [
       "<matplotlib.collections.PathCollection at 0x2ae4ecd5310>"
      ]
     },
     "execution_count": 10,
     "metadata": {},
     "output_type": "execute_result"
    },
    {
     "data": {
      "image/png": "[encoded data removed]",
      "text/plain": [
       "<Figure size 432x288 with 1 Axes>"
      ]
     },
     "metadata": {
      "needs_background": "light"
     },
     "output_type": "display_data"
    }
   ],
   "source": [
    "plt.scatter(data['type'],data1['amount'])"
   ]
  },
  {
   "cell_type": "markdown",
   "id": "7bbcd472",
   "metadata": {},
   "source": [
    "* the outlier points are very less these points doesn't effects the accuracy of model"
   ]
  },
  {
   "cell_type": "markdown",
   "id": "3c2974ef",
   "metadata": {},
   "source": [
    "## 2.fraud deetection model\n",
    "### find which transaction is fraud"
   ]
  },
  {
   "cell_type": "markdown",
   "id": "d5bcdf0d",
   "metadata": {},
   "source": [
    "* With the help of 'isfraud' column we can find number of transactions are fraud "
   ]
  },
  {
   "cell_type": "code",
   "execution_count": 11,
   "id": "9150b46a",
   "metadata": {},
   "outputs": [
    {
     "name": "stdout",
     "output_type": "stream",
     "text": [
      "mostly fraud transactions are takes place at ['TRANSFER' 'CASH_OUT']\n"
     ]
    }
   ],
   "source": [
    "Frauds_data=data.loc[data['isFraud']==1]\n",
    "Fraud_transactions=Frauds_data['type'].drop_duplicates().values\n",
    "print('mostly fraud transactions are takes place at',Fraud_transactions)"
   ]
  },
  {
   "cell_type": "code",
   "execution_count": 12,
   "id": "8c1c2c9f",
   "metadata": {},
   "outputs": [
    {
     "name": "stdout",
     "output_type": "stream",
     "text": [
      "mostly fraud transactions are takes place at ['TRANSFER' 'CASH_OUT']\n"
     ]
    }
   ],
   "source": [
    "Frauds_data=data.loc[data['isFraud']==1]\n",
    "Fraud_transactions=Frauds_data['type'].drop_duplicates().values\n",
    "print('mostly fraud transactions are takes place at',Fraud_transactions)"
   ]
  },
  {
   "cell_type": "code",
   "execution_count": 13,
   "id": "3dad63bd",
   "metadata": {},
   "outputs": [
    {
     "name": "stdout",
     "output_type": "stream",
     "text": [
      "fraud transfer in cash_out type is  4116\n",
      "fraud transfer in Transfer type is  4097\n"
     ]
    }
   ],
   "source": [
    "fraud_cashout=data.loc[(data.isFraud==1) &( data.type=='CASH_OUT')]\n",
    "fraud_transfer=data.loc[(data.isFraud==1) &( data.type=='TRANSFER')]\n",
    "print('fraud transfer in cash_out type is ',len(fraud_cashout))\n",
    "print('fraud transfer in Transfer type is ',len(fraud_transfer))"
   ]
  },
  {
   "cell_type": "markdown",
   "id": "075843f6",
   "metadata": {},
   "source": [
    "* Here we find count of fraud Transactions at 'TRANSFER' type and 'CASH_OUT' type"
   ]
  },
  {
   "cell_type": "markdown",
   "id": "d56861f5",
   "metadata": {},
   "source": [
    "### check the fraud transactions by using isFlaggedFraud column"
   ]
  },
  {
   "cell_type": "code",
   "execution_count": 14,
   "id": "1573f113",
   "metadata": {},
   "outputs": [
    {
     "name": "stdout",
     "output_type": "stream",
     "text": [
      "the number of isflaggedfraud transactions is  16\n"
     ]
    }
   ],
   "source": [
    "isflaggedfraud_count=len(data.loc[data.isFlaggedFraud==1])\n",
    "print('the number of isflaggedfraud transactions is ',isflaggedfraud_count)"
   ]
  },
  {
   "cell_type": "markdown",
   "id": "43bb812f",
   "metadata": {},
   "source": [
    "### Checking of fraud transactions using newbalence and old balence of destination and amount is not equal to 0\n",
    "* if both oldbalenceDest and newbalenceDest is zero even transfered amount is not equal to 0 then the transaction is fraud transaction"
   ]
  },
  {
   "cell_type": "code",
   "execution_count": 15,
   "id": "f54e58d3",
   "metadata": {},
   "outputs": [
    {
     "data": {
      "text/html": [
       "<div>\n",
       "<style scoped>\n",
       "    .dataframe tbody tr th:only-of-type {\n",
       "        vertical-align: middle;\n",
       "    }\n",
       "\n",
       "    .dataframe tbody tr th {\n",
       "        vertical-align: top;\n",
       "    }\n",
       "\n",
       "    .dataframe thead th {\n",
       "        text-align: right;\n",
       "    }\n",
       "</style>\n",
       "<table border=\"1\" class=\"dataframe\">\n",
       "  <thead>\n",
       "    <tr style=\"text-align: right;\">\n",
       "      <th></th>\n",
       "      <th>step</th>\n",
       "      <th>type</th>\n",
       "      <th>amount</th>\n",
       "      <th>nameOrig</th>\n",
       "      <th>oldbalanceOrg</th>\n",
       "      <th>newbalanceOrig</th>\n",
       "      <th>nameDest</th>\n",
       "      <th>oldbalanceDest</th>\n",
       "      <th>newbalanceDest</th>\n",
       "      <th>isFraud</th>\n",
       "      <th>isFlaggedFraud</th>\n",
       "    </tr>\n",
       "  </thead>\n",
       "  <tbody>\n",
       "    <tr>\n",
       "      <th>0</th>\n",
       "      <td>1</td>\n",
       "      <td>PAYMENT</td>\n",
       "      <td>9839.64</td>\n",
       "      <td>C1231006815</td>\n",
       "      <td>170136.0</td>\n",
       "      <td>160296.36</td>\n",
       "      <td>M1979787155</td>\n",
       "      <td>0.0</td>\n",
       "      <td>0.0</td>\n",
       "      <td>0</td>\n",
       "      <td>0</td>\n",
       "    </tr>\n",
       "    <tr>\n",
       "      <th>1</th>\n",
       "      <td>1</td>\n",
       "      <td>PAYMENT</td>\n",
       "      <td>1864.28</td>\n",
       "      <td>C1666544295</td>\n",
       "      <td>21249.0</td>\n",
       "      <td>19384.72</td>\n",
       "      <td>M2044282225</td>\n",
       "      <td>0.0</td>\n",
       "      <td>0.0</td>\n",
       "      <td>0</td>\n",
       "      <td>0</td>\n",
       "    </tr>\n",
       "    <tr>\n",
       "      <th>2</th>\n",
       "      <td>1</td>\n",
       "      <td>TRANSFER</td>\n",
       "      <td>181.00</td>\n",
       "      <td>C1305486145</td>\n",
       "      <td>181.0</td>\n",
       "      <td>0.00</td>\n",
       "      <td>C553264065</td>\n",
       "      <td>0.0</td>\n",
       "      <td>0.0</td>\n",
       "      <td>1</td>\n",
       "      <td>0</td>\n",
       "    </tr>\n",
       "    <tr>\n",
       "      <th>3</th>\n",
       "      <td>1</td>\n",
       "      <td>CASH_OUT</td>\n",
       "      <td>181.00</td>\n",
       "      <td>C840083671</td>\n",
       "      <td>181.0</td>\n",
       "      <td>0.00</td>\n",
       "      <td>C38997010</td>\n",
       "      <td>21182.0</td>\n",
       "      <td>0.0</td>\n",
       "      <td>1</td>\n",
       "      <td>0</td>\n",
       "    </tr>\n",
       "    <tr>\n",
       "      <th>4</th>\n",
       "      <td>1</td>\n",
       "      <td>PAYMENT</td>\n",
       "      <td>11668.14</td>\n",
       "      <td>C2048537720</td>\n",
       "      <td>41554.0</td>\n",
       "      <td>29885.86</td>\n",
       "      <td>M1230701703</td>\n",
       "      <td>0.0</td>\n",
       "      <td>0.0</td>\n",
       "      <td>0</td>\n",
       "      <td>0</td>\n",
       "    </tr>\n",
       "  </tbody>\n",
       "</table>\n",
       "</div>"
      ],
      "text/plain": [
       "   step      type    amount     nameOrig  oldbalanceOrg  newbalanceOrig  \\\n",
       "0     1   PAYMENT   9839.64  C1231006815       170136.0       160296.36   \n",
       "1     1   PAYMENT   1864.28  C1666544295        21249.0        19384.72   \n",
       "2     1  TRANSFER    181.00  C1305486145          181.0            0.00   \n",
       "3     1  CASH_OUT    181.00   C840083671          181.0            0.00   \n",
       "4     1   PAYMENT  11668.14  C2048537720        41554.0        29885.86   \n",
       "\n",
       "      nameDest  oldbalanceDest  newbalanceDest  isFraud  isFlaggedFraud  \n",
       "0  M1979787155             0.0             0.0        0               0  \n",
       "1  M2044282225             0.0             0.0        0               0  \n",
       "2   C553264065             0.0             0.0        1               0  \n",
       "3    C38997010         21182.0             0.0        1               0  \n",
       "4  M1230701703             0.0             0.0        0               0  "
      ]
     },
     "execution_count": 15,
     "metadata": {},
     "output_type": "execute_result"
    }
   ],
   "source": [
    "data.head()"
   ]
  },
  {
   "cell_type": "markdown",
   "id": "f77a238d",
   "metadata": {},
   "source": [
    "### Missing Transactions are"
   ]
  },
  {
   "cell_type": "code",
   "execution_count": 16,
   "id": "c91aa5c8",
   "metadata": {},
   "outputs": [
    {
     "name": "stdout",
     "output_type": "stream",
     "text": [
      "the missing transactions are 2317276\n"
     ]
    }
   ],
   "source": [
    "missing_transactions=data1.loc[(data1['oldbalanceDest']==0) & (data1['newbalanceDest']==0) & (data1.amount !=0)].values\n",
    "print('the missing transactions are',len(missing_transactions))"
   ]
  },
  {
   "cell_type": "code",
   "execution_count": 17,
   "id": "3683017e",
   "metadata": {},
   "outputs": [
    {
     "data": {
      "text/html": [
       "<div>\n",
       "<style scoped>\n",
       "    .dataframe tbody tr th:only-of-type {\n",
       "        vertical-align: middle;\n",
       "    }\n",
       "\n",
       "    .dataframe tbody tr th {\n",
       "        vertical-align: top;\n",
       "    }\n",
       "\n",
       "    .dataframe thead th {\n",
       "        text-align: right;\n",
       "    }\n",
       "</style>\n",
       "<table border=\"1\" class=\"dataframe\">\n",
       "  <thead>\n",
       "    <tr style=\"text-align: right;\">\n",
       "      <th></th>\n",
       "      <th>step</th>\n",
       "      <th>type</th>\n",
       "      <th>amount</th>\n",
       "      <th>oldbalanceOrg</th>\n",
       "      <th>newbalanceOrig</th>\n",
       "      <th>oldbalanceDest</th>\n",
       "      <th>newbalanceDest</th>\n",
       "    </tr>\n",
       "  </thead>\n",
       "  <tbody>\n",
       "    <tr>\n",
       "      <th>29</th>\n",
       "      <td>1</td>\n",
       "      <td>3</td>\n",
       "      <td>9920.52</td>\n",
       "      <td>0.0</td>\n",
       "      <td>0.0</td>\n",
       "      <td>0.00</td>\n",
       "      <td>0.00</td>\n",
       "    </tr>\n",
       "    <tr>\n",
       "      <th>30</th>\n",
       "      <td>1</td>\n",
       "      <td>3</td>\n",
       "      <td>3448.92</td>\n",
       "      <td>0.0</td>\n",
       "      <td>0.0</td>\n",
       "      <td>0.00</td>\n",
       "      <td>0.00</td>\n",
       "    </tr>\n",
       "    <tr>\n",
       "      <th>31</th>\n",
       "      <td>1</td>\n",
       "      <td>3</td>\n",
       "      <td>4206.84</td>\n",
       "      <td>0.0</td>\n",
       "      <td>0.0</td>\n",
       "      <td>0.00</td>\n",
       "      <td>0.00</td>\n",
       "    </tr>\n",
       "    <tr>\n",
       "      <th>32</th>\n",
       "      <td>1</td>\n",
       "      <td>3</td>\n",
       "      <td>5885.56</td>\n",
       "      <td>0.0</td>\n",
       "      <td>0.0</td>\n",
       "      <td>0.00</td>\n",
       "      <td>0.00</td>\n",
       "    </tr>\n",
       "    <tr>\n",
       "      <th>33</th>\n",
       "      <td>1</td>\n",
       "      <td>3</td>\n",
       "      <td>5307.88</td>\n",
       "      <td>0.0</td>\n",
       "      <td>0.0</td>\n",
       "      <td>0.00</td>\n",
       "      <td>0.00</td>\n",
       "    </tr>\n",
       "    <tr>\n",
       "      <th>...</th>\n",
       "      <td>...</td>\n",
       "      <td>...</td>\n",
       "      <td>...</td>\n",
       "      <td>...</td>\n",
       "      <td>...</td>\n",
       "      <td>...</td>\n",
       "      <td>...</td>\n",
       "    </tr>\n",
       "    <tr>\n",
       "      <th>6355984</th>\n",
       "      <td>709</td>\n",
       "      <td>3</td>\n",
       "      <td>3837.05</td>\n",
       "      <td>0.0</td>\n",
       "      <td>0.0</td>\n",
       "      <td>0.00</td>\n",
       "      <td>0.00</td>\n",
       "    </tr>\n",
       "    <tr>\n",
       "      <th>6356000</th>\n",
       "      <td>709</td>\n",
       "      <td>1</td>\n",
       "      <td>104570.26</td>\n",
       "      <td>0.0</td>\n",
       "      <td>0.0</td>\n",
       "      <td>2890040.30</td>\n",
       "      <td>2994610.55</td>\n",
       "    </tr>\n",
       "    <tr>\n",
       "      <th>6356051</th>\n",
       "      <td>709</td>\n",
       "      <td>1</td>\n",
       "      <td>244966.80</td>\n",
       "      <td>0.0</td>\n",
       "      <td>0.0</td>\n",
       "      <td>5254563.09</td>\n",
       "      <td>5499529.89</td>\n",
       "    </tr>\n",
       "    <tr>\n",
       "      <th>6356052</th>\n",
       "      <td>709</td>\n",
       "      <td>1</td>\n",
       "      <td>123403.11</td>\n",
       "      <td>0.0</td>\n",
       "      <td>0.0</td>\n",
       "      <td>606875.62</td>\n",
       "      <td>730278.74</td>\n",
       "    </tr>\n",
       "    <tr>\n",
       "      <th>6356244</th>\n",
       "      <td>709</td>\n",
       "      <td>3</td>\n",
       "      <td>14499.40</td>\n",
       "      <td>0.0</td>\n",
       "      <td>0.0</td>\n",
       "      <td>0.00</td>\n",
       "      <td>0.00</td>\n",
       "    </tr>\n",
       "  </tbody>\n",
       "</table>\n",
       "<p>2088969 rows × 7 columns</p>\n",
       "</div>"
      ],
      "text/plain": [
       "         step  type     amount  oldbalanceOrg  newbalanceOrig  oldbalanceDest  \\\n",
       "29          1     3    9920.52            0.0             0.0            0.00   \n",
       "30          1     3    3448.92            0.0             0.0            0.00   \n",
       "31          1     3    4206.84            0.0             0.0            0.00   \n",
       "32          1     3    5885.56            0.0             0.0            0.00   \n",
       "33          1     3    5307.88            0.0             0.0            0.00   \n",
       "...       ...   ...        ...            ...             ...             ...   \n",
       "6355984   709     3    3837.05            0.0             0.0            0.00   \n",
       "6356000   709     1  104570.26            0.0             0.0      2890040.30   \n",
       "6356051   709     1  244966.80            0.0             0.0      5254563.09   \n",
       "6356052   709     1  123403.11            0.0             0.0       606875.62   \n",
       "6356244   709     3   14499.40            0.0             0.0            0.00   \n",
       "\n",
       "         newbalanceDest  \n",
       "29                 0.00  \n",
       "30                 0.00  \n",
       "31                 0.00  \n",
       "32                 0.00  \n",
       "33                 0.00  \n",
       "...                 ...  \n",
       "6355984            0.00  \n",
       "6356000      2994610.55  \n",
       "6356051      5499529.89  \n",
       "6356052       730278.74  \n",
       "6356244            0.00  \n",
       "\n",
       "[2088969 rows x 7 columns]"
      ]
     },
     "execution_count": 17,
     "metadata": {},
     "output_type": "execute_result"
    }
   ],
   "source": [
    "data1.loc[(data1['oldbalanceOrg']==0) & (data1['newbalanceOrig']==0) & (data1.amount !=0)]"
   ]
  },
  {
   "cell_type": "markdown",
   "id": "85f0df53",
   "metadata": {},
   "source": [
    "## training the data"
   ]
  },
  {
   "cell_type": "markdown",
   "id": "6e5af0eb",
   "metadata": {},
   "source": [
    "### 3. In this 'type', 'amount','oldbalanceOrg','newbalanceOrig','oldbalanceDest',\t'newbalanceDest' are the independent variables .These independent varibles helps to get accuracy"
   ]
  },
  {
   "cell_type": "code",
   "execution_count": 18,
   "id": "56feedcd",
   "metadata": {
    "scrolled": true
   },
   "outputs": [
    {
     "name": "stdout",
     "output_type": "stream",
     "text": [
      "2770409 2770409\n"
     ]
    }
   ],
   "source": [
    "x=data.loc[(data.type == 'TRANSFER') | (data.type == 'CASH_OUT')]\n",
    "y=x.isFraud\n",
    "x=x.drop(columns=[ 'nameOrig', 'nameDest','isFraud','isFlaggedFraud'],axis=1)\n",
    "x.type=x.type.map({'CASH_OUT':1,'TRANSFER':4})\n",
    "print(len(x),len(y))"
   ]
  },
  {
   "cell_type": "code",
   "execution_count": 19,
   "id": "dc30aea0",
   "metadata": {},
   "outputs": [
    {
     "data": {
      "text/html": [
       "<div>\n",
       "<style scoped>\n",
       "    .dataframe tbody tr th:only-of-type {\n",
       "        vertical-align: middle;\n",
       "    }\n",
       "\n",
       "    .dataframe tbody tr th {\n",
       "        vertical-align: top;\n",
       "    }\n",
       "\n",
       "    .dataframe thead th {\n",
       "        text-align: right;\n",
       "    }\n",
       "</style>\n",
       "<table border=\"1\" class=\"dataframe\">\n",
       "  <thead>\n",
       "    <tr style=\"text-align: right;\">\n",
       "      <th></th>\n",
       "      <th>step</th>\n",
       "      <th>type</th>\n",
       "      <th>amount</th>\n",
       "      <th>oldbalanceOrg</th>\n",
       "      <th>newbalanceOrig</th>\n",
       "      <th>oldbalanceDest</th>\n",
       "      <th>newbalanceDest</th>\n",
       "    </tr>\n",
       "  </thead>\n",
       "  <tbody>\n",
       "    <tr>\n",
       "      <th>2</th>\n",
       "      <td>1</td>\n",
       "      <td>4</td>\n",
       "      <td>181.00</td>\n",
       "      <td>181.0</td>\n",
       "      <td>0.0</td>\n",
       "      <td>0.0</td>\n",
       "      <td>0.00</td>\n",
       "    </tr>\n",
       "    <tr>\n",
       "      <th>3</th>\n",
       "      <td>1</td>\n",
       "      <td>1</td>\n",
       "      <td>181.00</td>\n",
       "      <td>181.0</td>\n",
       "      <td>0.0</td>\n",
       "      <td>21182.0</td>\n",
       "      <td>0.00</td>\n",
       "    </tr>\n",
       "    <tr>\n",
       "      <th>15</th>\n",
       "      <td>1</td>\n",
       "      <td>1</td>\n",
       "      <td>229133.94</td>\n",
       "      <td>15325.0</td>\n",
       "      <td>0.0</td>\n",
       "      <td>5083.0</td>\n",
       "      <td>51513.44</td>\n",
       "    </tr>\n",
       "    <tr>\n",
       "      <th>19</th>\n",
       "      <td>1</td>\n",
       "      <td>4</td>\n",
       "      <td>215310.30</td>\n",
       "      <td>705.0</td>\n",
       "      <td>0.0</td>\n",
       "      <td>22425.0</td>\n",
       "      <td>0.00</td>\n",
       "    </tr>\n",
       "    <tr>\n",
       "      <th>24</th>\n",
       "      <td>1</td>\n",
       "      <td>4</td>\n",
       "      <td>311685.89</td>\n",
       "      <td>10835.0</td>\n",
       "      <td>0.0</td>\n",
       "      <td>6267.0</td>\n",
       "      <td>2719172.89</td>\n",
       "    </tr>\n",
       "  </tbody>\n",
       "</table>\n",
       "</div>"
      ],
      "text/plain": [
       "    step  type     amount  oldbalanceOrg  newbalanceOrig  oldbalanceDest  \\\n",
       "2      1     4     181.00          181.0             0.0             0.0   \n",
       "3      1     1     181.00          181.0             0.0         21182.0   \n",
       "15     1     1  229133.94        15325.0             0.0          5083.0   \n",
       "19     1     4  215310.30          705.0             0.0         22425.0   \n",
       "24     1     4  311685.89        10835.0             0.0          6267.0   \n",
       "\n",
       "    newbalanceDest  \n",
       "2             0.00  \n",
       "3             0.00  \n",
       "15        51513.44  \n",
       "19            0.00  \n",
       "24      2719172.89  "
      ]
     },
     "execution_count": 19,
     "metadata": {},
     "output_type": "execute_result"
    }
   ],
   "source": [
    "x.head()"
   ]
  },
  {
   "cell_type": "markdown",
   "id": "6cc85aad",
   "metadata": {},
   "source": [
    "#### train the data by divivng the data for taining and testing into(80:20)"
   ]
  },
  {
   "cell_type": "code",
   "execution_count": 20,
   "id": "1668bff8",
   "metadata": {},
   "outputs": [
    {
     "name": "stdout",
     "output_type": "stream",
     "text": [
      "         step  type     amount  oldbalanceOrg  newbalanceOrig  oldbalanceDest  \\\n",
      "2993304   232     1  338556.19            0.0             0.0      1120079.44   \n",
      "4200129   305     1  252619.72            0.0             0.0       646464.93   \n",
      "3855791   283     1  112486.32        21391.0             0.0            0.00   \n",
      "5744108   399     1   86134.60         6011.0             0.0       849284.51   \n",
      "3665694   276     1  170005.28          218.0             0.0        71388.73   \n",
      "...       ...   ...        ...            ...             ...             ...   \n",
      "4008595   298     1  511466.30        16116.0             0.0       221463.40   \n",
      "1268096   135     1   54404.28            0.0             0.0      1761833.41   \n",
      "3040488   234     1   93066.81        21022.0             0.0            0.00   \n",
      "2474434   204     1   56915.65        15832.0             0.0      3736595.83   \n",
      "2338596   189     1  121388.27            0.0             0.0       717406.71   \n",
      "\n",
      "         newbalanceDest  \n",
      "2993304      1458635.63  \n",
      "4200129       899084.65  \n",
      "3855791       112486.32  \n",
      "5744108       935419.11  \n",
      "3665694       241394.01  \n",
      "...                 ...  \n",
      "4008595       732929.71  \n",
      "1268096      1816237.69  \n",
      "3040488        93066.81  \n",
      "2474434      3793511.48  \n",
      "2338596       838794.98  \n",
      "\n",
      "[2216327 rows x 7 columns]\n"
     ]
    }
   ],
   "source": [
    "\n",
    "x_train, x_test, y_train, y_test = train_test_split(x, y, test_size=0.20, random_state=20)\n",
    "print(x_train)"
   ]
  },
  {
   "cell_type": "markdown",
   "id": "c72463d1",
   "metadata": {},
   "source": [
    "## 4.In this XGBClassifiers model is the best suitable model\n"
   ]
  },
  {
   "cell_type": "markdown",
   "id": "1e91b9d7",
   "metadata": {},
   "source": [
    "* This dataset is depends up on the classifiers by using XGBClassifirs is the best tool to predict the fraud transactions by using this model the accuracy is very high."
   ]
  },
  {
   "cell_type": "code",
   "execution_count": 21,
   "id": "100e394b",
   "metadata": {
    "scrolled": true
   },
   "outputs": [
    {
     "data": {
      "text/plain": [
       "XGBClassifier(base_score=None, booster=None, callbacks=None,\n",
       "              colsample_bylevel=None, colsample_bynode=None,\n",
       "              colsample_bytree=None, early_stopping_rounds=None,\n",
       "              enable_categorical=False, eval_metric=None, feature_types=None,\n",
       "              gamma=None, gpu_id=None, grow_policy=None, importance_type=None,\n",
       "              interaction_constraints=None, learning_rate=None, max_bin=None,\n",
       "              max_cat_threshold=None, max_cat_to_onehot=None,\n",
       "              max_delta_step=None, max_depth=None, max_leaves=None,\n",
       "              min_child_weight=None, missing=nan, monotone_constraints=None,\n",
       "              n_estimators=100, n_jobs=None, num_parallel_tree=None,\n",
       "              predictor=None, random_state=None, ...)"
      ]
     },
     "execution_count": 21,
     "metadata": {},
     "output_type": "execute_result"
    }
   ],
   "source": [
    "model=XGBClassifier()\n",
    "model.fit(x_train,y_train)"
   ]
  },
  {
   "cell_type": "markdown",
   "id": "b8b5edfc",
   "metadata": {},
   "source": [
    "## 5. The  main Key factors for  to predict fraudulent costumers are\n",
    "* CASH_OUT and TRANSFER type. With help of the types and also resultant newbalence after transaction at destination is also plays key role for predicting fradulent transactions"
   ]
  },
  {
   "cell_type": "markdown",
   "id": "9ba96927",
   "metadata": {},
   "source": [
    "## 6.Yes these factors make sense"
   ]
  },
  {
   "cell_type": "markdown",
   "id": "d5992b06",
   "metadata": {},
   "source": [
    "Bellow are the ways to predict the count of fradulent costumers"
   ]
  },
  {
   "cell_type": "code",
   "execution_count": 22,
   "id": "b07bf58b",
   "metadata": {
    "scrolled": true
   },
   "outputs": [
    {
     "name": "stdout",
     "output_type": "stream",
     "text": [
      "the missing transactions are 2317276\n"
     ]
    }
   ],
   "source": [
    "missing_transactions=data1.loc[(data1['oldbalanceDest']==0) & (data1['newbalanceDest']==0) & (data1.amount !=0)].values\n",
    "print('the missing transactions are',len(missing_transactions))"
   ]
  },
  {
   "cell_type": "markdown",
   "id": "d5f63b95",
   "metadata": {},
   "source": [
    "## prediction using the model"
   ]
  },
  {
   "cell_type": "code",
   "execution_count": 23,
   "id": "4397b94e",
   "metadata": {},
   "outputs": [
    {
     "name": "stdout",
     "output_type": "stream",
     "text": [
      "the predicted values are [0 0 0 ... 0 0 0]\n"
     ]
    }
   ],
   "source": [
    "y_predict=model.predict(x_test)\n",
    "print('the predicted values are',y_predict)"
   ]
  },
  {
   "cell_type": "code",
   "execution_count": 24,
   "id": "9095e172",
   "metadata": {},
   "outputs": [],
   "source": [
    "predictions = [value for value in y_predict]\n"
   ]
  },
  {
   "cell_type": "code",
   "execution_count": 25,
   "id": "fb80f0b0",
   "metadata": {},
   "outputs": [
    {
     "name": "stdout",
     "output_type": "stream",
     "text": [
      "the accuracy of the model is 0.9995885085601048\n"
     ]
    }
   ],
   "source": [
    "accuracy = accuracy_score(y_test, predictions)\n",
    "print('the accuracy of the model is',accuracy)"
   ]
  },
  {
   "cell_type": "markdown",
   "id": "a9f8e315",
   "metadata": {},
   "source": [
    "## 7. Prevention should be adopted while company update its infrastructure.\n",
    "* company should workout on transfer and cash_out transactions.\n",
    "* these transaction types are the loops for encouraging fraudlent costumers\n",
    "* And also focus on both new balence and old balence after the correct amount is transfered to the destination account.\n"
   ]
  },
  {
   "cell_type": "markdown",
   "id": "dde3a586",
   "metadata": {},
   "source": [
    "## 8.Working\n",
    "\n",
    "* Mostly fraud transactions are takes place only at cash_out and transfer types \n",
    "* If we focus on these transactions then there is high chances to prevent maximum fradualent transsctions . \n",
    "* new balence at origin== old balence at origin,new balence at destination== old balence at destination  after trasaction .\n",
    "* If this is happens then alert and take a note on who received that amount and take chamrge on that fraud costumer"
   ]
  },
  {
   "cell_type": "code",
   "execution_count": null,
   "id": "dcb2ecfc",
   "metadata": {},
   "outputs": [],
   "source": []
  }
 ],
 "metadata": {
  "kernelspec": {
   "display_name": "Python 3",
   "language": "python",
   "name": "python3"
  },
  "language_info": {
   "codemirror_mode": {
    "name": "ipython",
    "version": 3
   },
   "file_extension": ".py",
   "mimetype": "text/x-python",
   "name": "python",
   "nbconvert_exporter": "python",
   "pygments_lexer": "ipython3",
   "version": "3.8.8"
  }
 },
 "nbformat": 4,
 "nbformat_minor": 5
}
